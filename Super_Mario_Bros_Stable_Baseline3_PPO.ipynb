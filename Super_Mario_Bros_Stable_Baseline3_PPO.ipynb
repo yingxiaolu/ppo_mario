{
  "cells": [
    {
      "cell_type": "markdown",
      "metadata": {
        "id": "iezMhADyMDIi"
      },
      "source": [
        "# **Super Mario Bros. with Stable-Baseline3 PPO**\n",
        "\n"
      ]
    },
    {
      "cell_type": "markdown",
      "metadata": {
        "id": "1gAxwqotNsyl"
      },
      "source": [
        "\n",
        "\n",
        ">Super Mario Bros is a well-known video game title developed and published by Nintendo in the 1980s. It is one of the classical game titles that lived through the years and need no explanations. It is a 2D side-scrolling game, allowing the player to control the main character — Mario.\n",
        "\n",
        ">The gameplay involves moving Mario from left to right, surviving the villains, getting coins, and reaching the flag to clear stages. Mario would ultimately need to save the princess toadstool. These come with different reward systems, coins, villains, holes, and completion time.\n",
        "\n",
        ">The game environment was taken from the OpenAI Gym using the Nintendo Entertainment System (NES) python emulator. In this article, I will show how to implement the Reinforcement Learning algorithm using stable-baseline3 PPO algorithm using PyTorch library in an easy and simple way.\n",
        "\n",
        ">This project is broken into 3 parts:\n",
        "1.   Installation of all necessary\n",
        "2.   Pre-processing\n",
        "3.   Training of the model\n",
        "4.   Results and conclusions\n",
        "\n",
        "\n",
        "\n",
        "\n",
        ">**So, Lets-a Go!**"
      ]
    },
    {
      "cell_type": "markdown",
      "metadata": {
        "id": "xs60_ee-RYUq"
      },
      "source": [
        "## Installation of all necessary"
      ]
    },
    {
      "cell_type": "markdown",
      "metadata": {
        "id": "Uv4CEf2TR72c"
      },
      "source": [
        ">Before starting any kind of installation it is important to know the version of Python we are working with.  This project has been developed mainly in Google Colab, but due to the limitations when rendering the game, the Visual Studio development environment has also been used.  \n",
        "\n",
        ">It is convenient that both environments share the same version of Python. In my case, I had different problems when loading the models due to the dissimilarity of the versions."
      ]
    },
    {
      "cell_type": "code",
      "execution_count": 1,
      "metadata": {
        "colab": {
          "base_uri": "https://localhost:8080/"
        },
        "id": "R62QfE8YRgI8",
        "outputId": "7fc0a7a8-987a-47a6-e33b-ec4ed18d530b"
      },
      "outputs": [
        {
          "name": "stdout",
          "output_type": "stream",
          "text": [
            "Python 3.9.12\n"
          ]
        }
      ],
      "source": [
        "!python --version"
      ]
    },
    {
      "cell_type": "markdown",
      "metadata": {
        "id": "-qWpwXFqVNgu"
      },
      "source": [
        ">As mentioned above, the OpenAI Gym environment has been used. In the case of the project, version 0.21.0 has been used. Be careful with the version of the enviroments, since some later versions are not stable with Stable-Baseline3."
      ]
    },
    {
      "cell_type": "code",
      "execution_count": 2,
      "metadata": {
        "id": "c_6r2E-HUZg0"
      },
      "outputs": [
        {
          "name": "stdout",
          "output_type": "stream",
          "text": [
            "Requirement already satisfied: gym==0.21.0 in c:\\users\\nlp\\miniconda3\\lib\\site-packages (0.21.0)\n",
            "Requirement already satisfied: numpy>=1.18.0 in c:\\users\\nlp\\miniconda3\\lib\\site-packages (from gym==0.21.0) (1.26.1)\n",
            "Requirement already satisfied: cloudpickle>=1.2.0 in c:\\users\\nlp\\miniconda3\\lib\\site-packages (from gym==0.21.0) (3.0.0)\n",
            "Note: you may need to restart the kernel to use updated packages.\n"
          ]
        }
      ],
      "source": [
        "pip install gym==0.21.0"
      ]
    },
    {
      "cell_type": "markdown",
      "metadata": {
        "id": "uRtGliu3VdC-"
      },
      "source": [
        ">The next step is to install the Super Mario Bros. game. [Super Mario Bros](https://pypi.org/project/gym-super-mario-bros/)\n",
        "\n",
        ">In case you are **not using Google Colab**, you will need your computer to have the C++ compiler. From my point of view, the easiest way is, to download Visual Studio Code and in the installation download its C++ compiler."
      ]
    },
    {
      "cell_type": "code",
      "execution_count": 3,
      "metadata": {
        "id": "UWIeOMx-Wors"
      },
      "outputs": [],
      "source": [
        "!pip install -qq gym-super-mario-bros"
      ]
    },
    {
      "cell_type": "markdown",
      "metadata": {
        "id": "oxcjcCREXExZ"
      },
      "source": [
        ">In order to train the artificial intelligence, the PPO algorithm of stable-baseline3 will be used."
      ]
    },
    {
      "cell_type": "code",
      "execution_count": 4,
      "metadata": {
        "id": "wUt4doJtULoK"
      },
      "outputs": [],
      "source": [
        "!pip -qq install stable-baselines3==1.6.0"
      ]
    },
    {
      "cell_type": "markdown",
      "metadata": {
        "id": "iU7a5nPOUlK5"
      },
      "source": [
        "## First steps"
      ]
    },
    {
      "cell_type": "markdown",
      "metadata": {
        "id": "WIzNUPC0UvG_"
      },
      "source": [
        ">Before starting the enviroment pre-processing, it is necessary to understand how the game enviroment works.\n",
        "\n",
        ">On the one hand, gym-super-mario-bros offers different types of enviroment. In this project two models will be trained, each with one type of enviroment version.  By this, we want to analyze the differences between training a model with the standard version and a model with the rectangle version.\n",
        "\n",
        ">Enviroment with standart version : ![Mario con la version estandar](data:image/png;base64,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)        \n",
        "                                                                                >Enviroment with rectangle version : ![MarioKube.png](data:image/png;base64,iVBORw0KGgoAAAANSUhEUgAAAQAAAADgCAIAAABjIy8HAAADW0lEQVR4nO3dIU5cQQCA4aVZiajgCIgeggNUcARERUVFD9FDICorOAqCI1RwBASiElHbJrykkw7MLv/3WV7mTWD/zGaGfXtydf20g6p3qycAKwmANAGQJgDSBECaAEgTAGn7WQP9+DJrpDGfvq+57yrH8nt+6XnO+rtbAUgTAGkCIE0ApAmANAGQJgDSpp0DrLK13zy8b72/eP4Hn2/HBtowa996a5xZ++7HMs9ZrACkCYA0AZAmANIEQJoASBMAaSeeC/Snm6/73W53d3l6/fFx9Vx4DQIgzVsg0gRAmgBIEwBpAiBNAKQJgDQBkCYA0gRAmgBIEwBpAiBNAKQd/XOBakafq1P7/oRRVgDSBECaAEgTAGkCIE0ApAmANOcAB2rWc/RnfX/CW2UFIE0ApAmANAGQJgDSBECaAEgTAGkCIE0ApAmANAGQJgDSBECaAEjzeYAD5f/1X4cVgDQBkCYA0gRAmgBIEwBpAiBNAKQJgDQBkCYA0gRAmgBIEwBpAiBNAKQJgDQBkCYA0gRAmgBIEwBpAiBNAKQJgDQBkCYA0gRAmgBIEwBpAiBNAKQJgDQBkCYA0gRAmgBIEwBpAiBNAKQJgDQBkCYA0gRAmgBIEwBpAiBNAKQJgDQBkCYA0gRAmgBIEwBpAiBNAKQJgDQBkCYA0gRAmgBIEwBpAiBNAKQJgDQBkCYA0gRAmgBIEwBpAiBNAKQJgDQBkCYA0gRAmgBIEwBpAiBNAKQJgDQBkCYA0gRAmgBIEwBpAiBNAKQJgDQBkCYA0gRAmgBIEwBpAiBNAKQJgDQBkCYA0gRAmgBIEwBpAiBtP2ugm7NpQz3r6uHpRcenyQpAmgBIEwBpAiBNAKQJgDQBkDa8ef/S+/2j93U+wP+wApAmANIEQJoASBMAaQIgTQCkbW7qr9rvH+V8YK3zi7PVU/jL/e3D0PXLXuU/v41d/2HwevgX3gKRJgDSBECaAEgTAGkCIG1/LPv9o5wPzHVo+/1btua5dT5gBSBNAKQJgDQBkCYA0gRAmgBIO7m7PF1y4/f3v4aufzxfM0/etmWnYF7QHAJvgUgTAGkCIE0ApAmANAGQJgDSBECaAEgTAGkCIE0ApAmANAGQJgDSBECaAEgTAGkCIE0ApAmANAGQ9hsqUT13AN29RwAAAABJRU5ErkJggg==)\n",
        "\n"
      ]
    },
    {
      "cell_type": "code",
      "execution_count": 26,
      "metadata": {
        "id": "0v5U6jaCUs95"
      },
      "outputs": [],
      "source": [
        "import gym_super_mario_bros\n",
        "#The 1-1 specifies the map to be loaded\n",
        "STAGE_NAME = 'SuperMarioBros-1-3-v0' # Standar versión\n",
        "#STAGE_NAME = 'SuperMarioBros-1-1-v3' # Rectangle versión\n",
        "env = gym_super_mario_bros.make(STAGE_NAME) #Create the enviroment"
      ]
    },
    {
      "cell_type": "markdown",
      "metadata": {
        "id": "IGm80N_DYbQ3"
      },
      "source": [
        ">The next step would be to specify the moves that our Mario could make. The enviroment brings us by default certain predefined movements, although we can create our own as we will see in the section of pre processing."
      ]
    },
    {
      "cell_type": "code",
      "execution_count": 2,
      "metadata": {
        "colab": {
          "base_uri": "https://localhost:8080/"
        },
        "id": "ZhjKbt30ZdBe",
        "outputId": "a25d61af-64d0-444a-ec67-6bc931f84ac2"
      },
      "outputs": [
        {
          "name": "stdout",
          "output_type": "stream",
          "text": [
            "Simple Movements :  [['NOOP'], ['right'], ['right', 'A'], ['right', 'B'], ['right', 'A', 'B'], ['A'], ['left']]\n",
            "Complex Movements :  [['NOOP'], ['right'], ['right', 'A'], ['right', 'B'], ['right', 'A', 'B'], ['A'], ['left'], ['left', 'A'], ['left', 'B'], ['left', 'A', 'B'], ['down'], ['up']]\n",
            "Right Only Movements :  [['NOOP'], ['right'], ['right', 'A'], ['right', 'B'], ['right', 'A', 'B']]\n"
          ]
        }
      ],
      "source": [
        "from nes_py.wrappers import JoypadSpace\n",
        "\n",
        "from gym_super_mario_bros.actions import SIMPLE_MOVEMENT\n",
        "from gym_super_mario_bros.actions import COMPLEX_MOVEMENT\n",
        "from gym_super_mario_bros.actions import RIGHT_ONLY\n",
        "print(\"Simple Movements : \", SIMPLE_MOVEMENT)\n",
        "print(\"Complex Movements : \", COMPLEX_MOVEMENT)\n",
        "print(\"Right Only Movements : \", RIGHT_ONLY)\n",
        "env = JoypadSpace(env, SIMPLE_MOVEMENT) #specify the movements"
      ]
    },
    {
      "cell_type": "markdown",
      "metadata": {
        "id": "m1zlnQFCaUPy"
      },
      "source": [
        ">With these steps we can start playing with mario bros. "
      ]
    },
    {
      "cell_type": "code",
      "execution_count": 3,
      "metadata": {
        "id": "_DEOBfXmax8J"
      },
      "outputs": [
        {
          "name": "stderr",
          "output_type": "stream",
          "text": [
            "c:\\Users\\nlp\\miniconda3\\lib\\site-packages\\pyglet\\image\\codecs\\wic.py:289: UserWarning: [WinError -2147417850] 无法在设置线程模式后对其加以更改。\n",
            "  warnings.warn(str(err))\n"
          ]
        }
      ],
      "source": [
        "from nes_py.wrappers import JoypadSpace\n",
        "import gym_super_mario_bros\n",
        "from gym_super_mario_bros.actions import SIMPLE_MOVEMENT\n",
        "env = gym_super_mario_bros.make('SuperMarioBros-v0')\n",
        "env = JoypadSpace(env, SIMPLE_MOVEMENT)\n",
        "\n",
        "done = True\n",
        "for step in range(5000):\n",
        "    if done: # Done will be true if Mario dies in the game\n",
        "        state = env.reset()\n",
        "    state, reward, done, info = env.step(env.action_space.sample())\n",
        "    env.render() # If we are running the program in Colab we will need to comment the rendering of the environment. \n",
        "env.close()"
      ]
    },
    {
      "cell_type": "markdown",
      "metadata": {
        "id": "zMOYjQMFcK0N"
      },
      "source": [
        "## Pre-procesing"
      ]
    },
    {
      "cell_type": "code",
      "execution_count": 4,
      "metadata": {
        "id": "U-vNJmTGcTAU"
      },
      "outputs": [],
      "source": [
        "import gym\n",
        "import numpy as np\n",
        "import matplotlib.pyplot as plt\n",
        "import cv2\n",
        "import os\n",
        "# Import Frame Stacker Wrapper and GrayScaling Wrapper\n",
        "from gym.wrappers import GrayScaleObservation\n",
        "# Import Vectorization Wrappers\n",
        "from stable_baselines3.common.vec_env import VecFrameStack, DummyVecEnv\n"
      ]
    },
    {
      "cell_type": "markdown",
      "metadata": {
        "id": "KhbkQuNweQN4"
      },
      "source": [
        ">This section analyzes the pre-processing that has been done to the environment. On the one hand, we have the SkipFrame function. By default, in each frame the game performs an action (a movement) and returns the reward for that action. What happens, is that to train the AI it is not necessary to make a move in each frame. That is why, the function executes the movement every X frames giving less work to do the training."
      ]
    },
    {
      "cell_type": "code",
      "execution_count": 5,
      "metadata": {
        "id": "8cw3yGNOcc5K"
      },
      "outputs": [],
      "source": [
        "class SkipFrame(gym.Wrapper):\n",
        "    def __init__(self, env, skip):\n",
        "        super().__init__(env)\n",
        "        self._skip = skip\n",
        "\n",
        "    def step(self, action):\n",
        "        total_reward = 0.0\n",
        "        done = False\n",
        "        for i in range(self._skip):\n",
        "            obs, reward, done, info = self.env.step(action)\n",
        "            total_reward += reward\n",
        "            if done:\n",
        "                break\n",
        "        return obs, total_reward, done, info"
      ]
    },
    {
      "cell_type": "markdown",
      "metadata": {
        "id": "5HgxgmIhe6Ht"
      },
      "source": [
        ">The second step is the re-scaling of our environment. By default the enviroment is given by 240*256 pixels. In order to optimize our model it is not necessary to have so many pixels and that is why we can rescale our enviroment to a smaller scale."
      ]
    },
    {
      "cell_type": "code",
      "execution_count": 6,
      "metadata": {
        "colab": {
          "base_uri": "https://localhost:8080/"
        },
        "id": "7_JRS2OueXBf",
        "outputId": "8f4e2cab-6276-476d-d186-912379eca9dc"
      },
      "outputs": [
        {
          "name": "stdout",
          "output_type": "stream",
          "text": [
            "(240, 256, 3)\n"
          ]
        }
      ],
      "source": [
        "env = gym_super_mario_bros.make('SuperMarioBros-v0')\n",
        "env = JoypadSpace(env, SIMPLE_MOVEMENT)\n",
        "state = env.reset()\n",
        "print(state.shape)"
      ]
    },
    {
      "cell_type": "code",
      "execution_count": 7,
      "metadata": {
        "id": "d54mB36Ue8BA"
      },
      "outputs": [],
      "source": [
        "class ResizeEnv(gym.ObservationWrapper):\n",
        "    def __init__(self, env, size):\n",
        "        gym.ObservationWrapper.__init__(self, env)\n",
        "        (oldh, oldw, oldc) = env.observation_space.shape\n",
        "        newshape = (size, size, oldc)\n",
        "        self.observation_space = gym.spaces.Box(low=0, high=255,\n",
        "            shape=newshape, dtype=np.uint8)\n",
        "\n",
        "    def observation(self, frame):\n",
        "        height, width, _ = self.observation_space.shape\n",
        "        frame = cv2.resize(frame, (width, height), interpolation=cv2.INTER_AREA)\n",
        "        if frame.ndim == 2:\n",
        "            frame = frame[:,:,None]\n",
        "        return frame"
      ]
    },
    {
      "cell_type": "markdown",
      "metadata": {
        "id": "VC0Zo-taglOy"
      },
      "source": [
        ">On the other hand, there is the environment reward function. By default,the reward function assumes the objective of the game is to move as far right as possible (increase the agent's x value), as fast as possible, without dying. To model this game, three separate variables compose the reward:\n",
        "\n",
        "\n",
        "\n",
        "1.   v: the difference in agent x values between states\n",
        "* in this case this is instantaneous velocity for the given step\n",
        "* v = x1 - x0\n",
        "* x0 is the x position before the step\n",
        "* x1 is the x position after the step\n",
        "* moving right ⇔ v > 0\n",
        "* moving left ⇔ v < 0\n",
        "* not moving ⇔ v = 0\n",
        "2. c: the difference in the game clock between frames\n",
        "* the penalty prevents the agent from standing still\n",
        "* c = c0 - c1\n",
        "* c0 is the clock reading before the step\n",
        "* c1 is the clock reading after the step\n",
        "* no clock tick ⇔ c = 0\n",
        "* clock tick ⇔ c < 0\n",
        "3. d: death penalty that penalizes the agent for dying in a state\n",
        "* this penalty encourages the agent to avoid death\n",
        "* alive ⇔ d = 0\n",
        "* dead ⇔ d = -15\n",
        "\n",
        ">r = v + c + d\n",
        "\n",
        ">The reward is clipped into the range (-15, 15).\n",
        "It is in this function that we can start to try new things, such as creating an AI that prioritizes obtaining coins."
      ]
    },
    {
      "cell_type": "code",
      "execution_count": 8,
      "metadata": {
        "id": "GXK7ljdif9xG"
      },
      "outputs": [],
      "source": [
        "class CustomRewardAndDoneEnv(gym.Wrapper):\n",
        "    def __init__(self, env=None):\n",
        "        super(CustomRewardAndDoneEnv, self).__init__(env)\n",
        "        self.current_score = 0\n",
        "        self.current_x = 0\n",
        "        self.current_x_count = 0\n",
        "        self.max_x = 0\n",
        "    def reset(self, **kwargs):\n",
        "        self.current_score = 0\n",
        "        self.current_x = 0\n",
        "        self.current_x_count = 0\n",
        "        self.max_x = 0\n",
        "        return self.env.reset(**kwargs)\n",
        "    def step(self, action):\n",
        "        state, reward, done, info = self.env.step(action)\n",
        "        reward += max(0, info['x_pos'] - self.max_x)\n",
        "        if (info['x_pos'] - self.current_x) == 0:\n",
        "            self.current_x_count += 1\n",
        "        else:\n",
        "            self.current_x_count = 0\n",
        "        if info[\"flag_get\"]:\n",
        "            reward += 500\n",
        "            done = True\n",
        "            print(\"GOAL\")\n",
        "        if info[\"life\"] < 2:\n",
        "            reward -= 500\n",
        "            done = True\n",
        "        self.current_score = info[\"score\"]\n",
        "        self.max_x = max(self.max_x, self.current_x)\n",
        "        self.current_x = info[\"x_pos\"]\n",
        "        return state, reward / 10., done, info"
      ]
    },
    {
      "cell_type": "markdown",
      "metadata": {
        "id": "pEeD3hH7h05q"
      },
      "source": [
        ">By default the environment is composed of the RGB room. This data is unnecessary when training our model and we will get better results if we convert our game to a grayscale."
      ]
    },
    {
      "cell_type": "code",
      "execution_count": 9,
      "metadata": {
        "colab": {
          "base_uri": "https://localhost:8080/"
        },
        "id": "DB40N-PwilSy",
        "outputId": "b2b26bff-d70c-4ef2-ed08-6fbb0588a5bd"
      },
      "outputs": [
        {
          "name": "stdout",
          "output_type": "stream",
          "text": [
            "RGB scale :  (240, 256, 3)\n",
            "Gray scale: (240, 256, 1)\n"
          ]
        }
      ],
      "source": [
        "env = gym_super_mario_bros.make('SuperMarioBros-v0')\n",
        "env = JoypadSpace(env, SIMPLE_MOVEMENT)\n",
        "state = env.reset()\n",
        "print(\"RGB scale : \",state.shape)\n",
        "env = GrayScaleObservation(env, keep_dim=True)\n",
        "state = env.reset()\n",
        "print(\"Gray scale:\",state.shape)"
      ]
    },
    {
      "cell_type": "markdown",
      "metadata": {
        "id": "QLTHFpQXldnX"
      },
      "source": [
        ">Finally, it is important to group the frames when training. If you only train with one frame the AI will not be able to know where Mario or the enemies are moviing. This is why a FrameStack of 4 frames is created for training."
      ]
    },
    {
      "cell_type": "code",
      "execution_count": 10,
      "metadata": {
        "id": "tPaZPDisleuy"
      },
      "outputs": [],
      "source": [
        "env = DummyVecEnv([lambda: env])\n",
        "env = VecFrameStack(env, 4, channels_order='last')"
      ]
    },
    {
      "cell_type": "markdown",
      "metadata": {
        "id": "Yosni9AKlxe_"
      },
      "source": [
        ">This is the final pre-processing"
      ]
    },
    {
      "cell_type": "code",
      "execution_count": 32,
      "metadata": {
        "id": "HWcJ4YLkh1Xh"
      },
      "outputs": [],
      "source": [
        "MOVEMENT = [['left', 'A'], ['right', 'B'], ['right', 'A', 'B']]\n",
        "STAGE_NAME = 'SuperMarioBros-1-3-v0' # Standar versión\n",
        "STAGE_NAME = 'SuperMarioBros-1-1-v0'\n",
        "env = gym_super_mario_bros.make(STAGE_NAME)\n",
        "env = JoypadSpace(env, MOVEMENT)\n",
        "env = CustomRewardAndDoneEnv(env)\n",
        "env = SkipFrame(env, skip=4)\n",
        "env = GrayScaleObservation(env, keep_dim=True)\n",
        "env = ResizeEnv(env, size=84)\n",
        "env = DummyVecEnv([lambda: env])\n",
        "env = VecFrameStack(env, 4, channels_order='last')"
      ]
    },
    {
      "cell_type": "code",
      "execution_count": 12,
      "metadata": {
        "colab": {
          "base_uri": "https://localhost:8080/"
        },
        "id": "QFWwhsBml0Jm",
        "outputId": "5325afb2-9ba4-496f-a291-2f4764b56816"
      },
      "outputs": [
        {
          "name": "stdout",
          "output_type": "stream",
          "text": [
            "state: (1, 84, 84, 4)\n"
          ]
        }
      ],
      "source": [
        "env.reset()\n",
        "state, reward, done, info = env.step([0])\n",
        "print('state:', state.shape) #Color scale, height, width, num of stacks"
      ]
    },
    {
      "cell_type": "code",
      "execution_count": 13,
      "metadata": {
        "id": "KL_uSrTVl-kf"
      },
      "outputs": [],
      "source": [
        "def display_all_frame():\n",
        "    plt.figure(figsize=(16,16))\n",
        "    for idx in range(state.shape[3]):\n",
        "        plt.subplot(1,4,idx+1)\n",
        "        plt.imshow(state[0][:,:,idx])\n",
        "    plt.show()"
      ]
    },
    {
      "cell_type": "code",
      "execution_count": 14,
      "metadata": {
        "colab": {
          "base_uri": "https://localhost:8080/",
          "height": 245
        },
        "id": "95YVJ49xmAyW",
        "outputId": "789080b0-a34e-4ede-ad3a-eea3015962cd"
      },
      "outputs": [
        {
          "data": {
            "image/png": "[encoded data removed]",
            "text/plain": [
              "<Figure size 1152x1152 with 4 Axes>"
            ]
          },
          "metadata": {
            "needs_background": "light"
          },
          "output_type": "display_data"
        }
      ],
      "source": [
        "display_all_frame()"
      ]
    },
    {
      "cell_type": "markdown",
      "metadata": {
        "id": "FHPfiqJimJNn"
      },
      "source": [
        "## Training of the model"
      ]
    },
    {
      "cell_type": "code",
      "execution_count": 15,
      "metadata": {
        "id": "_QPID_iJIAQK"
      },
      "outputs": [],
      "source": [
        "# Import PPO for algos\n",
        "from stable_baselines3 import PPO\n",
        "import torch as th\n",
        "from torch import nn\n",
        "\n",
        "# Import Base Callback for saving models\n",
        "from stable_baselines3.common.callbacks import BaseCallback\n",
        "from stable_baselines3.common.torch_layers import BaseFeaturesExtractor"
      ]
    },
    {
      "cell_type": "code",
      "execution_count": 16,
      "metadata": {
        "id": "fetFG9Y-KkVn"
      },
      "outputs": [],
      "source": [
        "# Model Param\n",
        "CHECK_FREQ_NUMB = 10000\n",
        "TOTAL_TIMESTEP_NUMB = 500000\n",
        "LEARNING_RATE = 0.0001\n",
        "GAE = 1.0\n",
        "ENT_COEF = 0.01\n",
        "N_STEPS = 512\n",
        "GAMMA = 0.9\n",
        "BATCH_SIZE = 64\n",
        "N_EPOCHS = 10\n",
        "\n",
        "# Test Param\n",
        "EPISODE_NUMBERS = 20\n",
        "MAX_TIMESTEP_TEST = 1000"
      ]
    },
    {
      "cell_type": "markdown",
      "metadata": {
        "id": "kSuCif-GitBJ"
      },
      "source": [
        ">Once the environment has been preprocessed, it is time to start training our AI model. In this case the stable-baseline3 PPO algorithm will be used due to its simplicity, but other alternatives such as DQN or DDQN can be explored. Before starting with the training, a convolutional neural network (CNN) has been created."
      ]
    },
    {
      "cell_type": "markdown",
      "metadata": {
        "id": "ZWFOd0aYgz4L"
      },
      "source": [
        ">"
      ]
    },
    {
      "cell_type": "code",
      "execution_count": 17,
      "metadata": {
        "id": "eKYEsKiHKChE"
      },
      "outputs": [],
      "source": [
        "class MarioNet(BaseFeaturesExtractor):\n",
        "\n",
        "    def __init__(self, observation_space: gym.spaces.Box, features_dim):\n",
        "        super(MarioNet, self).__init__(observation_space, features_dim)\n",
        "        n_input_channels = observation_space.shape[0]\n",
        "        self.cnn = nn.Sequential(\n",
        "            nn.Conv2d(n_input_channels, 32, kernel_size=3, stride=2, padding=1),\n",
        "            nn.ReLU(),\n",
        "            nn.Conv2d(32, 32, kernel_size=3, stride=2, padding=1),\n",
        "            nn.ReLU(),\n",
        "            nn.Conv2d(32, 32, kernel_size=3, stride=2, padding=1),\n",
        "            nn.ReLU(),\n",
        "            nn.Conv2d(32, 32, kernel_size=3, stride=2, padding=1),\n",
        "            nn.ReLU(),\n",
        "            nn.Flatten(),\n",
        "        )\n",
        "\n",
        "        # Compute shape by doing one forward pass\n",
        "        with th.no_grad():\n",
        "            n_flatten = self.cnn(th.as_tensor(observation_space.sample()[None]).float()).shape[1]\n",
        "\n",
        "        self.linear = nn.Sequential(nn.Linear(n_flatten, features_dim), nn.ReLU())\n",
        "\n",
        "    def forward(self, observations: th.Tensor) -> th.Tensor:\n",
        "        return self.linear(self.cnn(observations))\n",
        "\n",
        "policy_kwargs = dict(\n",
        "    features_extractor_class=MarioNet,\n",
        "    features_extractor_kwargs=dict(features_dim=512),\n",
        ")"
      ]
    },
    {
      "cell_type": "markdown",
      "metadata": {
        "id": "rznnR_7xizcQ"
      },
      "source": [
        ">The next step consists of the creation of a file where the AI will save the results obtained in each iteration. In this way, later we will be able to visualize graphically the learning of our model.\n",
        "\n",
        ">In this case, the average score, the average starting time and the best score obtained will be saved for each iteration."
      ]
    },
    {
      "cell_type": "code",
      "execution_count": 19,
      "metadata": {
        "id": "elCC-AerKSPD"
      },
      "outputs": [],
      "source": [
        "from pathlib import Path\n",
        "import datetime\n",
        "from pytz import timezone\n",
        "save_dir = Path('./model')\n",
        "save_dir.mkdir(parents=True)\n",
        "reward_log_path = (save_dir / 'reward_log.csv')"
      ]
    },
    {
      "cell_type": "code",
      "execution_count": 20,
      "metadata": {
        "id": "lAX834MzKXWG"
      },
      "outputs": [],
      "source": [
        "with open(reward_log_path, 'a') as f:\n",
        "    print('timesteps,reward,best_reward', file=f)"
      ]
    },
    {
      "cell_type": "markdown",
      "metadata": {
        "id": "_wQPtcA5j1rr"
      },
      "source": [
        ">This callback function will be in charge of writing the aforementioned data to the file. This function will be executed automatically each time an iteration has been completed."
      ]
    },
    {
      "cell_type": "code",
      "execution_count": 21,
      "metadata": {
        "id": "ydS_MlH9KYwd"
      },
      "outputs": [],
      "source": [
        "class TrainAndLoggingCallback(BaseCallback):\n",
        "    def __init__(self, check_freq, save_path, verbose=1):\n",
        "        super(TrainAndLoggingCallback, self).__init__(verbose)\n",
        "        self.check_freq = check_freq\n",
        "        self.save_path = save_path\n",
        "\n",
        "    def _init_callback(self):\n",
        "        if self.save_path is not None:\n",
        "            os.makedirs(self.save_path, exist_ok=True)\n",
        "\n",
        "    def _on_step(self):\n",
        "        if self.n_calls % self.check_freq == 0:\n",
        "            model_path = (save_dir / 'best_model_{}'.format(self.n_calls))\n",
        "            self.model.save(model_path)\n",
        "\n",
        "            total_reward = [0] * EPISODE_NUMBERS\n",
        "            total_time = [0] * EPISODE_NUMBERS\n",
        "            best_reward = 0\n",
        "\n",
        "            for i in range(EPISODE_NUMBERS):\n",
        "                state = env.reset()  # reset for each new trial\n",
        "                done = False\n",
        "                total_reward[i] = 0\n",
        "                total_time[i] = 0\n",
        "                while not done and total_time[i] < MAX_TIMESTEP_TEST:\n",
        "                    action, _ = model.predict(state)\n",
        "                    state, reward, done, info = env.step(action)\n",
        "                    total_reward[i] += reward[0]\n",
        "                    total_time[i] += 1\n",
        "\n",
        "                if total_reward[i] > best_reward:\n",
        "                    best_reward = total_reward[i]\n",
        "                    best_epoch = self.n_calls\n",
        "\n",
        "                state = env.reset()  # reset for each new trial\n",
        "\n",
        "            print('time steps:', self.n_calls, '/', TOTAL_TIMESTEP_NUMB)\n",
        "            print('average reward:', (sum(total_reward) / EPISODE_NUMBERS),\n",
        "                  'average time:', (sum(total_time) / EPISODE_NUMBERS),\n",
        "                  'best_reward:', best_reward)\n",
        "\n",
        "            with open(reward_log_path, 'a') as f:\n",
        "                print(self.n_calls, ',', sum(total_reward) / EPISODE_NUMBERS, ',', best_reward, file=f)\n",
        "\n",
        "        return True"
      ]
    },
    {
      "cell_type": "markdown",
      "metadata": {
        "id": "Oxx7434mkYN2"
      },
      "source": [
        ">Finally, all that remains is for our AI to start learning. "
      ]
    },
    {
      "cell_type": "code",
      "execution_count": 22,
      "metadata": {
        "id": "5yXiD4toLChp"
      },
      "outputs": [],
      "source": [
        "callback = TrainAndLoggingCallback(check_freq=CHECK_FREQ_NUMB, save_path=save_dir)"
      ]
    },
    {
      "cell_type": "code",
      "execution_count": 24,
      "metadata": {
        "id": "qYFzPiWPLG5P"
      },
      "outputs": [],
      "source": [
        "# Model Param\n",
        "CHECK_FREQ_NUMB = 10000\n",
        "TOTAL_TIMESTEP_NUMB = 500000\n",
        "LEARNING_RATE = 0.0001\n",
        "GAE = 1.0\n",
        "ENT_COEF = 0.01\n",
        "N_STEPS = 512\n",
        "GAMMA = 0.9\n",
        "BATCH_SIZE = 64\n",
        "N_EPOCHS = 20\n",
        "\n",
        "# Test Param\n",
        "EPISODE_NUMBERS = 20\n",
        "MAX_TIMESTEP_TEST = 1000\n",
        "\n",
        "model = PPO('CnnPolicy', env, verbose=0, policy_kwargs=policy_kwargs, tensorboard_log=save_dir, learning_rate=LEARNING_RATE, n_steps=N_STEPS,\n",
        "              batch_size=BATCH_SIZE, n_epochs=N_EPOCHS, gamma=GAMMA, gae_lambda=GAE, ent_coef=ENT_COEF)"
      ]
    },
    {
      "cell_type": "code",
      "execution_count": 25,
      "metadata": {
        "id": "1zwA7R2zLIy5"
      },
      "outputs": [
        {
          "name": "stdout",
          "output_type": "stream",
          "text": [
            "time steps: 10000 / 500000\n",
            "average reward: 196.43999667577447 average time: 83.7 best_reward: 530.2999899461865\n",
            "GOAL\n",
            "GOAL\n",
            "time steps: 20000 / 500000\n",
            "average reward: 274.83999546542765 average time: 145.95 best_reward: 577.3999909311533\n",
            "time steps: 30000 / 500000\n",
            "average reward: 275.684995187819 average time: 138.2 best_reward: 729.5999873802066\n",
            "time steps: 40000 / 500000\n",
            "average reward: 200.6049966778606 average time: 84.65 best_reward: 527.6999899148941\n",
            "time steps: 50000 / 500000\n",
            "average reward: 217.16499639600517 average time: 100.35 best_reward: 421.8999932780862\n",
            "time steps: 60000 / 500000\n",
            "average reward: 224.75499634630978 average time: 103.1 best_reward: 577.7999898865819\n",
            "time steps: 70000 / 500000\n",
            "average reward: 226.829996124655 average time: 91.7 best_reward: 577.2999884337187\n",
            "time steps: 80000 / 500000\n",
            "average reward: 255.11999572515487 average time: 125.35 best_reward: 490.39998959749937\n",
            "time steps: 90000 / 500000\n",
            "average reward: 243.15999606885015 average time: 104.7 best_reward: 448.29999247938395\n",
            "time steps: 100000 / 500000\n",
            "average reward: 316.5149949140847 average time: 149.65 best_reward: 529.9999904185534\n",
            "time steps: 110000 / 500000\n",
            "average reward: 222.77499653100966 average time: 96.55 best_reward: 491.0999915525317\n",
            "time steps: 120000 / 500000\n",
            "average reward: 276.1449956137687 average time: 118.0 best_reward: 530.9999902322888\n",
            "time steps: 130000 / 500000\n",
            "average reward: 214.6299961704761 average time: 100.7 best_reward: 576.0999889299273\n",
            "time steps: 140000 / 500000\n",
            "average reward: 198.6449968893081 average time: 86.7 best_reward: 528.0999911800027\n",
            "time steps: 150000 / 500000\n",
            "average reward: 250.57499600350857 average time: 145.0 best_reward: 528.4999909326434\n",
            "time steps: 160000 / 500000\n",
            "average reward: 142.52999765723945 average time: 54.7 best_reward: 329.49999430030584\n",
            "time steps: 170000 / 500000\n",
            "average reward: 248.194995611161 average time: 117.05 best_reward: 492.0999909937382\n",
            "time steps: 180000 / 500000\n",
            "average reward: 261.4899955090135 average time: 133.7 best_reward: 421.39999194443226\n",
            "time steps: 190000 / 500000\n",
            "average reward: 300.3999949727207 average time: 189.95 best_reward: 529.4999908655882\n",
            "time steps: 200000 / 500000\n",
            "average reward: 266.8749954275787 average time: 120.3 best_reward: 568.4999899044633\n",
            "time steps: 210000 / 500000\n",
            "average reward: 212.04999619573354 average time: 126.25 best_reward: 421.3999926149845\n",
            "time steps: 220000 / 500000\n",
            "average reward: 220.87499614208937 average time: 190.25 best_reward: 415.4999930858612\n",
            "time steps: 230000 / 500000\n",
            "average reward: 243.879996130988 average time: 182.3 best_reward: 517.5999916419387\n",
            "time steps: 240000 / 500000\n",
            "average reward: 323.5549948379397 average time: 167.35 best_reward: 726.1999903544784\n",
            "time steps: 250000 / 500000\n",
            "average reward: 247.84999614618718 average time: 125.45 best_reward: 491.5999925285578\n",
            "time steps: 260000 / 500000\n",
            "average reward: 255.35499590858817 average time: 172.7 best_reward: 524.6999916657805\n",
            "time steps: 270000 / 500000\n",
            "average reward: 231.78499676249922 average time: 137.55 best_reward: 522.9999944791198\n",
            "time steps: 280000 / 500000\n",
            "average reward: 249.4599956113845 average time: 258.25 best_reward: 418.59999250620604\n",
            "time steps: 290000 / 500000\n",
            "average reward: 208.0399969212711 average time: 313.65 best_reward: 414.69999262690544\n",
            "time steps: 300000 / 500000\n",
            "average reward: 307.66499472409487 average time: 171.1 best_reward: 423.6999918073416\n",
            "time steps: 310000 / 500000\n",
            "average reward: 239.52999627552927 average time: 223.6 best_reward: 419.9999934062362\n",
            "time steps: 320000 / 500000\n",
            "average reward: 297.22999513559046 average time: 208.7 best_reward: 447.8999925777316\n",
            "time steps: 330000 / 500000\n",
            "average reward: 225.4849968317896 average time: 268.95 best_reward: 443.9999933168292\n",
            "time steps: 340000 / 500000\n",
            "average reward: 241.44999653957785 average time: 144.6 best_reward: 575.8999910503626\n",
            "time steps: 350000 / 500000\n",
            "average reward: 272.10499519743024 average time: 125.4 best_reward: 447.0999922081828\n",
            "time steps: 360000 / 500000\n",
            "average reward: 291.4249955624342 average time: 150.8 best_reward: 447.99999226629734\n",
            "time steps: 370000 / 500000\n",
            "average reward: 340.0549945026636 average time: 160.8 best_reward: 726.8999874517322\n",
            "time steps: 380000 / 500000\n",
            "average reward: 229.9099965583533 average time: 315.15 best_reward: 420.2999930754304\n",
            "time steps: 390000 / 500000\n",
            "average reward: 227.08999679200352 average time: 96.5 best_reward: 492.89999356865883\n",
            "time steps: 400000 / 500000\n",
            "average reward: 305.6499949026853 average time: 155.4 best_reward: 445.999991774559\n",
            "time steps: 410000 / 500000\n",
            "average reward: 302.25999534241856 average time: 216.65 best_reward: 447.79999320954084\n",
            "time steps: 420000 / 500000\n",
            "average reward: 267.18999604545536 average time: 145.9 best_reward: 493.6999923363328\n",
            "time steps: 430000 / 500000\n",
            "average reward: 273.04499601908026 average time: 330.65 best_reward: 443.99999315291643\n",
            "time steps: 440000 / 500000\n",
            "average reward: 321.28999454416333 average time: 187.55 best_reward: 724.299987629056\n",
            "time steps: 450000 / 500000\n",
            "average reward: 339.4449950292707 average time: 142.75 best_reward: 596.799992479384\n",
            "time steps: 460000 / 500000\n",
            "average reward: 278.5049959167838 average time: 144.1 best_reward: 830.8999897390604\n",
            "time steps: 470000 / 500000\n",
            "average reward: 248.77499604150654 average time: 129.75 best_reward: 421.2999923825264\n",
            "time steps: 480000 / 500000\n",
            "average reward: 242.12499598823487 average time: 105.1 best_reward: 445.2999914959073\n",
            "time steps: 490000 / 500000\n",
            "average reward: 293.4549953442067 average time: 113.25 best_reward: 491.699993096292\n",
            "time steps: 500000 / 500000\n",
            "average reward: 211.81499713473022 average time: 83.65 best_reward: 526.9999932944775\n"
          ]
        },
        {
          "data": {
            "text/plain": [
              "<stable_baselines3.ppo.ppo.PPO at 0x1f75171a160>"
            ]
          },
          "execution_count": 25,
          "metadata": {},
          "output_type": "execute_result"
        }
      ],
      "source": [
        "model.learn(total_timesteps=TOTAL_TIMESTEP_NUMB, callback=callback)"
      ]
    },
    {
      "cell_type": "markdown",
      "metadata": {
        "id": "DF4Z0cWQkeHA"
      },
      "source": [
        "## Results and Conclusion"
      ]
    },
    {
      "cell_type": "markdown",
      "metadata": {
        "id": "VvWiZ6SFw3aY"
      },
      "source": [
        ">This last section analyzes the results and conclusions of this project. As can be seen in the graphs, two different models have been trained, one using the standard set and the other using the rectangle set.\n",
        "\n",
        ">In the standard game, 1050000 iteractions have been executed, while in the rectangular game there have been 640000.  Although the rectangular model has been trained with much fewer iterations, the best model has similar results to the best standard model. \n",
        "\n",
        ">If we run the function that calculates the win rate we can see that both models have a 20% win rate."
      ]
    },
    {
      "cell_type": "code",
      "execution_count": 27,
      "metadata": {
        "colab": {
          "base_uri": "https://localhost:8080/",
          "height": 296
        },
        "id": "sbfGzJzfpzZ8",
        "outputId": "a689b59c-ebe0-4d67-a461-8c0a1528cc0c"
      },
      "outputs": [
        {
          "data": {
            "text/plain": [
              "<Axes: xlabel='timesteps'>"
            ]
          },
          "execution_count": 27,
          "metadata": {},
          "output_type": "execute_result"
        },
        {
          "data": {
            "image/png": "[encoded data removed]",
            "text/plain": [
              "<Figure size 432x288 with 1 Axes>"
            ]
          },
          "metadata": {
            "needs_background": "light"
          },
          "output_type": "display_data"
        }
      ],
      "source": [
        "import pandas as pd\n",
        "reward_log = pd.read_csv(\"reward_log_stable.csv\", index_col='timesteps')\n",
        "reward_log.plot()"
      ]
    },
    {
      "cell_type": "code",
      "execution_count": 32,
      "metadata": {
        "colab": {
          "base_uri": "https://localhost:8080/",
          "height": 296
        },
        "id": "QBWZxY3SqbSI",
        "outputId": "67a3f525-ec61-49cf-ff6b-8d9468b7ee54"
      },
      "outputs": [
        {
          "data": {
            "text/plain": [
              "<Axes: xlabel='timesteps'>"
            ]
          },
          "execution_count": 32,
          "metadata": {},
          "output_type": "execute_result"
        },
        {
          "data": {
            "image/png": "[encoded data removed]",
            "text/plain": [
              "<Figure size 432x288 with 1 Axes>"
            ]
          },
          "metadata": {
            "needs_background": "light"
          },
          "output_type": "display_data"
        }
      ],
      "source": [
        "import pandas as pd\n",
        "reward_log = pd.read_csv(\"reward_log_Rectangular.csv\", index_col='timesteps')\n",
        "reward_log.plot()"
      ]
    },
    {
      "cell_type": "code",
      "execution_count": 34,
      "metadata": {
        "colab": {
          "base_uri": "https://localhost:8080/"
        },
        "id": "GPm7fr1npz5F",
        "outputId": "17dff4d4-50a9-4d48-8502-6a25d14b658d"
      },
      "outputs": [
        {
          "name": "stdout",
          "output_type": "stream",
          "text": [
            "best epoch: 620000\n"
          ]
        }
      ],
      "source": [
        "reward_log = pd.read_csv(\"reward_log_stable.csv\", index_col='timesteps')\n",
        "best_epoch = reward_log['reward'].idxmax()\n",
        "print('best epoch:', best_epoch)"
      ]
    },
    {
      "cell_type": "code",
      "execution_count": 28,
      "metadata": {
        "id": "rzIoR_Ndp3AJ"
      },
      "outputs": [],
      "source": [
        "best_epoch=500000\n",
        "best_model_path = os.path.join(save_dir, 'best_model_{}'.format(best_epoch))\n",
        "model = PPO.load(best_model_path)"
      ]
    },
    {
      "cell_type": "code",
      "execution_count": 33,
      "metadata": {
        "id": "ZoToaDDVp46c"
      },
      "outputs": [
        {
          "name": "stdout",
          "output_type": "stream",
          "text": [
            "Model win rate: 0%\n"
          ]
        }
      ],
      "source": [
        "state = env.reset()\n",
        "done = True\n",
        "plays = 0;\n",
        "wins = 0;\n",
        "while plays < 100:\n",
        "    if done:\n",
        "        state = env.reset() \n",
        "        if info[0][\"flag_get\"]:\n",
        "          wins += 1\n",
        "        plays += 1\n",
        "    action, _ = model.predict(state)\n",
        "    state, reward, done, info = env.step(action)\n",
        "print(\"Model win rate: \" + str(wins) + \"%\")"
      ]
    },
    {
      "cell_type": "code",
      "execution_count": 34,
      "metadata": {
        "id": "U7dSVTueyhwo"
      },
      "outputs": [
        {
          "ename": "KeyboardInterrupt",
          "evalue": "",
          "output_type": "error",
          "traceback": [
            "\u001b[1;31m---------------------------------------------------------------------------\u001b[0m",
            "\u001b[1;31mKeyboardInterrupt\u001b[0m                         Traceback (most recent call last)",
            "\u001b[1;32md:\\github\\MarioBrosPPO\\Super_Mario_Bros_Stable_Baseline3_PPO.ipynb Cell 59\u001b[0m line \u001b[0;36m<cell line: 3>\u001b[1;34m()\u001b[0m\n\u001b[0;32m      <a href='vscode-notebook-cell:/d%3A/github/MarioBrosPPO/Super_Mario_Bros_Stable_Baseline3_PPO.ipynb#Y112sZmlsZQ%3D%3D?line=4'>5</a>\u001b[0m     state \u001b[39m=\u001b[39m env\u001b[39m.\u001b[39mreset() \n\u001b[0;32m      <a href='vscode-notebook-cell:/d%3A/github/MarioBrosPPO/Super_Mario_Bros_Stable_Baseline3_PPO.ipynb#Y112sZmlsZQ%3D%3D?line=5'>6</a>\u001b[0m action, _ \u001b[39m=\u001b[39m model\u001b[39m.\u001b[39mpredict(state)\n\u001b[1;32m----> <a href='vscode-notebook-cell:/d%3A/github/MarioBrosPPO/Super_Mario_Bros_Stable_Baseline3_PPO.ipynb#Y112sZmlsZQ%3D%3D?line=6'>7</a>\u001b[0m state, reward, done, info \u001b[39m=\u001b[39m env\u001b[39m.\u001b[39;49mstep(action)\n\u001b[0;32m      <a href='vscode-notebook-cell:/d%3A/github/MarioBrosPPO/Super_Mario_Bros_Stable_Baseline3_PPO.ipynb#Y112sZmlsZQ%3D%3D?line=7'>8</a>\u001b[0m env\u001b[39m.\u001b[39mrender()\n",
            "File \u001b[1;32mc:\\Users\\nlp\\miniconda3\\lib\\site-packages\\stable_baselines3\\common\\vec_env\\base_vec_env.py:162\u001b[0m, in \u001b[0;36mVecEnv.step\u001b[1;34m(self, actions)\u001b[0m\n\u001b[0;32m    155\u001b[0m \u001b[39m\"\"\"\u001b[39;00m\n\u001b[0;32m    156\u001b[0m \u001b[39mStep the environments with the given action\u001b[39;00m\n\u001b[0;32m    157\u001b[0m \n\u001b[0;32m    158\u001b[0m \u001b[39m:param actions: the action\u001b[39;00m\n\u001b[0;32m    159\u001b[0m \u001b[39m:return: observation, reward, done, information\u001b[39;00m\n\u001b[0;32m    160\u001b[0m \u001b[39m\"\"\"\u001b[39;00m\n\u001b[0;32m    161\u001b[0m \u001b[39mself\u001b[39m\u001b[39m.\u001b[39mstep_async(actions)\n\u001b[1;32m--> 162\u001b[0m \u001b[39mreturn\u001b[39;00m \u001b[39mself\u001b[39;49m\u001b[39m.\u001b[39;49mstep_wait()\n",
            "File \u001b[1;32mc:\\Users\\nlp\\miniconda3\\lib\\site-packages\\stable_baselines3\\common\\vec_env\\vec_frame_stack.py:48\u001b[0m, in \u001b[0;36mVecFrameStack.step_wait\u001b[1;34m(self)\u001b[0m\n\u001b[0;32m     44\u001b[0m \u001b[39mdef\u001b[39;00m \u001b[39mstep_wait\u001b[39m(\n\u001b[0;32m     45\u001b[0m     \u001b[39mself\u001b[39m,\n\u001b[0;32m     46\u001b[0m ) \u001b[39m-\u001b[39m\u001b[39m>\u001b[39m Tuple[Union[np\u001b[39m.\u001b[39mndarray, Dict[\u001b[39mstr\u001b[39m, np\u001b[39m.\u001b[39mndarray]], np\u001b[39m.\u001b[39mndarray, np\u001b[39m.\u001b[39mndarray, List[Dict[\u001b[39mstr\u001b[39m, Any]],]:\n\u001b[1;32m---> 48\u001b[0m     observations, rewards, dones, infos \u001b[39m=\u001b[39m \u001b[39mself\u001b[39;49m\u001b[39m.\u001b[39;49mvenv\u001b[39m.\u001b[39;49mstep_wait()\n\u001b[0;32m     50\u001b[0m     observations, infos \u001b[39m=\u001b[39m \u001b[39mself\u001b[39m\u001b[39m.\u001b[39mstackedobs\u001b[39m.\u001b[39mupdate(observations, dones, infos)\n\u001b[0;32m     52\u001b[0m     \u001b[39mreturn\u001b[39;00m observations, rewards, dones, infos\n",
            "File \u001b[1;32mc:\\Users\\nlp\\miniconda3\\lib\\site-packages\\stable_baselines3\\common\\vec_env\\dummy_vec_env.py:43\u001b[0m, in \u001b[0;36mDummyVecEnv.step_wait\u001b[1;34m(self)\u001b[0m\n\u001b[0;32m     41\u001b[0m \u001b[39mdef\u001b[39;00m \u001b[39mstep_wait\u001b[39m(\u001b[39mself\u001b[39m) \u001b[39m-\u001b[39m\u001b[39m>\u001b[39m VecEnvStepReturn:\n\u001b[0;32m     42\u001b[0m     \u001b[39mfor\u001b[39;00m env_idx \u001b[39min\u001b[39;00m \u001b[39mrange\u001b[39m(\u001b[39mself\u001b[39m\u001b[39m.\u001b[39mnum_envs):\n\u001b[1;32m---> 43\u001b[0m         obs, \u001b[39mself\u001b[39m\u001b[39m.\u001b[39mbuf_rews[env_idx], \u001b[39mself\u001b[39m\u001b[39m.\u001b[39mbuf_dones[env_idx], \u001b[39mself\u001b[39m\u001b[39m.\u001b[39mbuf_infos[env_idx] \u001b[39m=\u001b[39m \u001b[39mself\u001b[39;49m\u001b[39m.\u001b[39;49menvs[env_idx]\u001b[39m.\u001b[39;49mstep(\n\u001b[0;32m     44\u001b[0m             \u001b[39mself\u001b[39;49m\u001b[39m.\u001b[39;49mactions[env_idx]\n\u001b[0;32m     45\u001b[0m         )\n\u001b[0;32m     46\u001b[0m         \u001b[39mif\u001b[39;00m \u001b[39mself\u001b[39m\u001b[39m.\u001b[39mbuf_dones[env_idx]:\n\u001b[0;32m     47\u001b[0m             \u001b[39m# save final observation where user can get it, then reset\u001b[39;00m\n\u001b[0;32m     48\u001b[0m             \u001b[39mself\u001b[39m\u001b[39m.\u001b[39mbuf_infos[env_idx][\u001b[39m\"\u001b[39m\u001b[39mterminal_observation\u001b[39m\u001b[39m\"\u001b[39m] \u001b[39m=\u001b[39m obs\n",
            "File \u001b[1;32mc:\\Users\\nlp\\miniconda3\\lib\\site-packages\\gym\\core.py:323\u001b[0m, in \u001b[0;36mObservationWrapper.step\u001b[1;34m(self, action)\u001b[0m\n\u001b[0;32m    322\u001b[0m \u001b[39mdef\u001b[39;00m \u001b[39mstep\u001b[39m(\u001b[39mself\u001b[39m, action):\n\u001b[1;32m--> 323\u001b[0m     observation, reward, done, info \u001b[39m=\u001b[39m \u001b[39mself\u001b[39;49m\u001b[39m.\u001b[39;49menv\u001b[39m.\u001b[39;49mstep(action)\n\u001b[0;32m    324\u001b[0m     \u001b[39mreturn\u001b[39;00m \u001b[39mself\u001b[39m\u001b[39m.\u001b[39mobservation(observation), reward, done, info\n",
            "File \u001b[1;32mc:\\Users\\nlp\\miniconda3\\lib\\site-packages\\gym\\core.py:323\u001b[0m, in \u001b[0;36mObservationWrapper.step\u001b[1;34m(self, action)\u001b[0m\n\u001b[0;32m    322\u001b[0m \u001b[39mdef\u001b[39;00m \u001b[39mstep\u001b[39m(\u001b[39mself\u001b[39m, action):\n\u001b[1;32m--> 323\u001b[0m     observation, reward, done, info \u001b[39m=\u001b[39m \u001b[39mself\u001b[39;49m\u001b[39m.\u001b[39;49menv\u001b[39m.\u001b[39;49mstep(action)\n\u001b[0;32m    324\u001b[0m     \u001b[39mreturn\u001b[39;00m \u001b[39mself\u001b[39m\u001b[39m.\u001b[39mobservation(observation), reward, done, info\n",
            "\u001b[1;32md:\\github\\MarioBrosPPO\\Super_Mario_Bros_Stable_Baseline3_PPO.ipynb Cell 59\u001b[0m line \u001b[0;36mSkipFrame.step\u001b[1;34m(self, action)\u001b[0m\n\u001b[0;32m      <a href='vscode-notebook-cell:/d%3A/github/MarioBrosPPO/Super_Mario_Bros_Stable_Baseline3_PPO.ipynb#Y112sZmlsZQ%3D%3D?line=7'>8</a>\u001b[0m done \u001b[39m=\u001b[39m \u001b[39mFalse\u001b[39;00m\n\u001b[0;32m      <a href='vscode-notebook-cell:/d%3A/github/MarioBrosPPO/Super_Mario_Bros_Stable_Baseline3_PPO.ipynb#Y112sZmlsZQ%3D%3D?line=8'>9</a>\u001b[0m \u001b[39mfor\u001b[39;00m i \u001b[39min\u001b[39;00m \u001b[39mrange\u001b[39m(\u001b[39mself\u001b[39m\u001b[39m.\u001b[39m_skip):\n\u001b[1;32m---> <a href='vscode-notebook-cell:/d%3A/github/MarioBrosPPO/Super_Mario_Bros_Stable_Baseline3_PPO.ipynb#Y112sZmlsZQ%3D%3D?line=9'>10</a>\u001b[0m     obs, reward, done, info \u001b[39m=\u001b[39m \u001b[39mself\u001b[39;49m\u001b[39m.\u001b[39;49menv\u001b[39m.\u001b[39;49mstep(action)\n\u001b[0;32m     <a href='vscode-notebook-cell:/d%3A/github/MarioBrosPPO/Super_Mario_Bros_Stable_Baseline3_PPO.ipynb#Y112sZmlsZQ%3D%3D?line=10'>11</a>\u001b[0m     total_reward \u001b[39m+\u001b[39m\u001b[39m=\u001b[39m reward\n\u001b[0;32m     <a href='vscode-notebook-cell:/d%3A/github/MarioBrosPPO/Super_Mario_Bros_Stable_Baseline3_PPO.ipynb#Y112sZmlsZQ%3D%3D?line=11'>12</a>\u001b[0m     \u001b[39mif\u001b[39;00m done:\n",
            "\u001b[1;32md:\\github\\MarioBrosPPO\\Super_Mario_Bros_Stable_Baseline3_PPO.ipynb Cell 59\u001b[0m line \u001b[0;36mCustomRewardAndDoneEnv.step\u001b[1;34m(self, action)\u001b[0m\n\u001b[0;32m     <a href='vscode-notebook-cell:/d%3A/github/MarioBrosPPO/Super_Mario_Bros_Stable_Baseline3_PPO.ipynb#Y112sZmlsZQ%3D%3D?line=13'>14</a>\u001b[0m \u001b[39mdef\u001b[39;00m \u001b[39mstep\u001b[39m(\u001b[39mself\u001b[39m, action):\n\u001b[1;32m---> <a href='vscode-notebook-cell:/d%3A/github/MarioBrosPPO/Super_Mario_Bros_Stable_Baseline3_PPO.ipynb#Y112sZmlsZQ%3D%3D?line=14'>15</a>\u001b[0m     state, reward, done, info \u001b[39m=\u001b[39m \u001b[39mself\u001b[39;49m\u001b[39m.\u001b[39;49menv\u001b[39m.\u001b[39;49mstep(action)\n\u001b[0;32m     <a href='vscode-notebook-cell:/d%3A/github/MarioBrosPPO/Super_Mario_Bros_Stable_Baseline3_PPO.ipynb#Y112sZmlsZQ%3D%3D?line=15'>16</a>\u001b[0m     reward \u001b[39m+\u001b[39m\u001b[39m=\u001b[39m \u001b[39mmax\u001b[39m(\u001b[39m0\u001b[39m, info[\u001b[39m'\u001b[39m\u001b[39mx_pos\u001b[39m\u001b[39m'\u001b[39m] \u001b[39m-\u001b[39m \u001b[39mself\u001b[39m\u001b[39m.\u001b[39mmax_x)\n\u001b[0;32m     <a href='vscode-notebook-cell:/d%3A/github/MarioBrosPPO/Super_Mario_Bros_Stable_Baseline3_PPO.ipynb#Y112sZmlsZQ%3D%3D?line=16'>17</a>\u001b[0m     \u001b[39mif\u001b[39;00m (info[\u001b[39m'\u001b[39m\u001b[39mx_pos\u001b[39m\u001b[39m'\u001b[39m] \u001b[39m-\u001b[39m \u001b[39mself\u001b[39m\u001b[39m.\u001b[39mcurrent_x) \u001b[39m==\u001b[39m \u001b[39m0\u001b[39m:\n",
            "File \u001b[1;32mc:\\Users\\nlp\\miniconda3\\lib\\site-packages\\nes_py\\wrappers\\joypad_space.py:74\u001b[0m, in \u001b[0;36mJoypadSpace.step\u001b[1;34m(self, action)\u001b[0m\n\u001b[0;32m     59\u001b[0m \u001b[39m\"\"\"\u001b[39;00m\n\u001b[0;32m     60\u001b[0m \u001b[39mTake a step using the given action.\u001b[39;00m\n\u001b[0;32m     61\u001b[0m \n\u001b[1;32m   (...)\u001b[0m\n\u001b[0;32m     71\u001b[0m \n\u001b[0;32m     72\u001b[0m \u001b[39m\"\"\"\u001b[39;00m\n\u001b[0;32m     73\u001b[0m \u001b[39m# take the step and record the output\u001b[39;00m\n\u001b[1;32m---> 74\u001b[0m \u001b[39mreturn\u001b[39;00m \u001b[39mself\u001b[39;49m\u001b[39m.\u001b[39;49menv\u001b[39m.\u001b[39;49mstep(\u001b[39mself\u001b[39;49m\u001b[39m.\u001b[39;49m_action_map[action])\n",
            "File \u001b[1;32mc:\\Users\\nlp\\miniconda3\\lib\\site-packages\\gym\\wrappers\\time_limit.py:18\u001b[0m, in \u001b[0;36mTimeLimit.step\u001b[1;34m(self, action)\u001b[0m\n\u001b[0;32m     14\u001b[0m \u001b[39mdef\u001b[39;00m \u001b[39mstep\u001b[39m(\u001b[39mself\u001b[39m, action):\n\u001b[0;32m     15\u001b[0m     \u001b[39massert\u001b[39;00m (\n\u001b[0;32m     16\u001b[0m         \u001b[39mself\u001b[39m\u001b[39m.\u001b[39m_elapsed_steps \u001b[39mis\u001b[39;00m \u001b[39mnot\u001b[39;00m \u001b[39mNone\u001b[39;00m\n\u001b[0;32m     17\u001b[0m     ), \u001b[39m\"\u001b[39m\u001b[39mCannot call env.step() before calling reset()\u001b[39m\u001b[39m\"\u001b[39m\n\u001b[1;32m---> 18\u001b[0m     observation, reward, done, info \u001b[39m=\u001b[39m \u001b[39mself\u001b[39;49m\u001b[39m.\u001b[39;49menv\u001b[39m.\u001b[39;49mstep(action)\n\u001b[0;32m     19\u001b[0m     \u001b[39mself\u001b[39m\u001b[39m.\u001b[39m_elapsed_steps \u001b[39m+\u001b[39m\u001b[39m=\u001b[39m \u001b[39m1\u001b[39m\n\u001b[0;32m     20\u001b[0m     \u001b[39mif\u001b[39;00m \u001b[39mself\u001b[39m\u001b[39m.\u001b[39m_elapsed_steps \u001b[39m>\u001b[39m\u001b[39m=\u001b[39m \u001b[39mself\u001b[39m\u001b[39m.\u001b[39m_max_episode_steps:\n",
            "File \u001b[1;32mc:\\Users\\nlp\\miniconda3\\lib\\site-packages\\nes_py\\nes_env.py:300\u001b[0m, in \u001b[0;36mNESEnv.step\u001b[1;34m(self, action)\u001b[0m\n\u001b[0;32m    298\u001b[0m \u001b[39mself\u001b[39m\u001b[39m.\u001b[39mcontrollers[\u001b[39m0\u001b[39m][:] \u001b[39m=\u001b[39m action\n\u001b[0;32m    299\u001b[0m \u001b[39m# pass the action to the emulator as an unsigned byte\u001b[39;00m\n\u001b[1;32m--> 300\u001b[0m _LIB\u001b[39m.\u001b[39;49mStep(\u001b[39mself\u001b[39;49m\u001b[39m.\u001b[39;49m_env)\n\u001b[0;32m    301\u001b[0m \u001b[39m# get the reward for this step\u001b[39;00m\n\u001b[0;32m    302\u001b[0m reward \u001b[39m=\u001b[39m \u001b[39mfloat\u001b[39m(\u001b[39mself\u001b[39m\u001b[39m.\u001b[39m_get_reward())\n",
            "\u001b[1;31mKeyboardInterrupt\u001b[0m: "
          ]
        },
        {
          "ename": "",
          "evalue": "",
          "output_type": "error",
          "traceback": [
            "\u001b[1;31mThe Kernel crashed while executing code in the the current cell or a previous cell. Please review the code in the cell(s) to identify a possible cause of the failure. Click <a href='https://aka.ms/vscodeJupyterKernelCrash'>here</a> for more info. View Jupyter <a href='command:jupyter.viewOutput'>log</a> for further details."
          ]
        }
      ],
      "source": [
        "state = env.reset()\n",
        "plays=0\n",
        "while plays < 2:\n",
        "    if done:\n",
        "        state = env.reset() \n",
        "    action, _ = model.predict(state)\n",
        "    state, reward, done, info = env.step(action)\n",
        "    env.render() #Only in local, not in Colab "
      ]
    },
    {
      "cell_type": "markdown",
      "metadata": {
        "id": "mctsDSbNzQXH"
      },
      "source": [
        ">[Demo](https://youtube.com/shorts/jta7SegNNwM)\n",
        "<iframe width='560' height='315' src=\"https://youtube.com/shorts/jta7SegNNwM\"/>"
      ]
    }
  ],
  "metadata": {
    "colab": {
      "collapsed_sections": [
        "xs60_ee-RYUq",
        "iU7a5nPOUlK5",
        "zMOYjQMFcK0N"
      ],
      "provenance": []
    },
    "gpuClass": "standard",
    "kernelspec": {
      "display_name": "Python 3",
      "name": "python3"
    },
    "language_info": {
      "codemirror_mode": {
        "name": "ipython",
        "version": 3
      },
      "file_extension": ".py",
      "mimetype": "text/x-python",
      "name": "python",
      "nbconvert_exporter": "python",
      "pygments_lexer": "ipython3",
      "version": "3.9.12"
    }
  },
  "nbformat": 4,
  "nbformat_minor": 0
}
